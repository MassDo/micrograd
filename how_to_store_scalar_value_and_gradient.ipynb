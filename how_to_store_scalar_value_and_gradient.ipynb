{
 "cells": [
  {
   "cell_type": "code",
   "execution_count": 23,
   "id": "ca0c59e4",
   "metadata": {},
   "outputs": [
    {
     "data": {
      "text/plain": [
       "{Value(data=2), Value(data=4)}"
      ]
     },
     "execution_count": 23,
     "metadata": {},
     "output_type": "execute_result"
    }
   ],
   "source": [
    "class Value:\n",
    "    \n",
    "    def __init__(self, data, _parents=(), _op=''):\n",
    "        self.data = data\n",
    "        self._prev = set(_parents)\n",
    "        self._op = _op\n",
    "        \n",
    "    def __repr__(self):\n",
    "        return f\"Value(data={self.data})\"\n",
    "    \n",
    "    def __add__(self, other):\n",
    "        out = self.data + other.data\n",
    "        return Value(out, (self, other), '+')\n",
    "    \n",
    "    def __mul__(self, other):\n",
    "        out = self.data * other.data\n",
    "        return Value(out, (self, other), '*')\n",
    "    \n",
    "a = Value(2)\n",
    "b = Value(4)\n",
    "a + b\n",
    "result= a * b\n",
    "result._prev\n"
   ]
  },
  {
   "cell_type": "code",
   "execution_count": 24,
   "id": "7db69e14",
   "metadata": {},
   "outputs": [
    {
     "data": {
      "text/plain": [
       "'*'"
      ]
     },
     "execution_count": 24,
     "metadata": {},
     "output_type": "execute_result"
    }
   ],
   "source": [
    "result._op"
   ]
  }
 ],
 "metadata": {
  "kernelspec": {
   "display_name": "Python 3 (ipykernel)",
   "language": "python",
   "name": "python3"
  },
  "language_info": {
   "codemirror_mode": {
    "name": "ipython",
    "version": 3
   },
   "file_extension": ".py",
   "mimetype": "text/x-python",
   "name": "python",
   "nbconvert_exporter": "python",
   "pygments_lexer": "ipython3",
   "version": "3.8.10"
  }
 },
 "nbformat": 4,
 "nbformat_minor": 5
}
